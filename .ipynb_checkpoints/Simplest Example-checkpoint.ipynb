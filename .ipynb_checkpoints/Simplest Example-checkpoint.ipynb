{
 "cells": [
  {
   "cell_type": "code",
   "execution_count": 8,
   "metadata": {},
   "outputs": [],
   "source": [
    "import numpy as np\n",
    "\n",
    "def cal_pop_fitness(equation_inputs, pop):\n",
    "    # Calculating the fitness value of each solution in the current population.\n",
    "    # The fitness function caulcuates the sum of products between each input and its corresponding weight.\n",
    "    print('pop', pop)\n",
    "    print('equation_inputs', equation_inputs)\n",
    "    fitness = numpy.sum(pop*equation_inputs, axis=1)\n",
    "    return fitness\n",
    "\n",
    "def select_mating_pool(pop, fitness, num_parents):\n",
    "    # Selecting the best individuals in the current generation as parents for producing the offspring of the next generation.\n",
    "    parents = numpy.empty((num_parents, pop.shape[1]))\n",
    "    for parent_num in range(num_parents):\n",
    "        max_fitness_idx = numpy.where(fitness == numpy.max(fitness))\n",
    "        max_fitness_idx = max_fitness_idx[0][0]\n",
    "        parents[parent_num, :] = pop[max_fitness_idx, :]\n",
    "        fitness[max_fitness_idx] = -99999999999\n",
    "    return parents\n",
    "\n",
    "def crossover(parents, offspring_size):\n",
    "    offspring = numpy.empty(offspring_size)\n",
    "    # The point at which crossover takes place between two parents. Usually it is at the center.\n",
    "    crossover_point = numpy.uint8(offspring_size[1]/2)\n",
    "\n",
    "    for k in range(offspring_size[0]):\n",
    "        # Index of the first parent to mate.\n",
    "        parent1_idx = k%parents.shape[0]\n",
    "        # Index of the second parent to mate.\n",
    "        parent2_idx = (k+1)%parents.shape[0]\n",
    "        # The new offspring will have its first half of its genes taken from the first parent.\n",
    "        offspring[k, 0:crossover_point] = parents[parent1_idx, 0:crossover_point]\n",
    "        # The new offspring will have its second half of its genes taken from the second parent.\n",
    "        offspring[k, crossover_point:] = parents[parent2_idx, crossover_point:]\n",
    "    return offspring\n",
    "\n",
    "def mutation(offspring_crossover):\n",
    "    # Mutation changes a single gene in each offspring randomly.\n",
    "    for idx in range(offspring_crossover.shape[0]):\n",
    "        # The random value to be added to the gene.\n",
    "        random_value = numpy.random.uniform(-1.0, 1.0, 1)\n",
    "        offspring_crossover[idx, 4] = offspring_crossover[idx, 4] + random_value\n",
    "    return offspring_crossover\n"
   ]
  },
  {
   "cell_type": "markdown",
   "metadata": {},
   "source": [
    "## Find the parameters that maximize Y\n",
    "\n",
    "The following equation Y(x1, x2, ..., x6) = w1x1 + w2x2 + ... + w6x6 has inputs and weights. We want to find the parameters (weights, e.g., w1, ..., w6) that maximmize Y."
   ]
  },
  {
   "cell_type": "code",
   "execution_count": 9,
   "metadata": {},
   "outputs": [],
   "source": [
    "# Inputs of the equation.\n",
    "equation_inputs = [4,-2,3.5,5,-11,-4.7]\n",
    "\n",
    "# Number of the weights we are looking to optimize.\n",
    "num_weights = 6"
   ]
  },
  {
   "cell_type": "markdown",
   "metadata": {},
   "source": [
    "#### Define initial population\n",
    "The population is N sets of values of the weights. These sets are called chromosomes. (The size of the chromosome is then the number of weights. Each of the 6, for this example, values are called genes). The chromosomes are also called solutions."
   ]
  },
  {
   "cell_type": "code",
   "execution_count": 10,
   "metadata": {},
   "outputs": [],
   "source": [
    "# Based on number of weights, each chromosome (solution) in the population will have 6 genes (1 gene per weight)\n",
    "# The number of solutions per population has no set value it needs to take. \n",
    "sol_per_pop = 8\n",
    "\n",
    "# Defining population size.\n",
    "# The population will have sol_per_pop chromosome where each chromosome has num_weights genes.\n",
    "pop_size = (sol_per_pop, num_weights) \n",
    "\n",
    "# Creating the initial population.\n",
    "new_population = np.random.uniform(low=-4., high=4., size=pop_size)"
   ]
  },
  {
   "cell_type": "code",
   "execution_count": 11,
   "metadata": {},
   "outputs": [
    {
     "name": "stdout",
     "output_type": "stream",
     "text": [
      "[[ 0.16258845 -2.97927551  2.4427117  -3.75680785  3.42747967 -0.30419881]\n",
      " [-0.03484934  0.33205037  2.75789126  0.82155037  0.86599728 -1.40031288]\n",
      " [-0.43538511  2.24305924 -3.75774592 -2.28337725  2.48377481  2.88042579]\n",
      " [ 2.92937127  3.65849103 -0.55327185  0.06802188 -3.22132622  1.0931418 ]\n",
      " [ 0.57926862  0.21450668  1.6750496   3.37117591  0.88139436 -0.54695999]\n",
      " [-1.07490566  1.88086264 -0.73209245  0.94915441 -2.12739719  3.576971  ]\n",
      " [-0.27062199 -3.97769095  0.97103381  1.14181974 -2.98841254  2.42566367]\n",
      " [ 2.53217722 -0.792499    3.54733186  0.13179409  3.55472576 -1.31401166]]\n"
     ]
    }
   ],
   "source": [
    "print(new_population)"
   ]
  },
  {
   "cell_type": "code",
   "execution_count": 17,
   "metadata": {},
   "outputs": [
    {
     "name": "stdout",
     "output_type": "stream",
     "text": [
      "[61.59666454 61.59666454 61.59666454 61.59666454 53.18547906 64.69076333\n",
      " 57.84830785 59.09865696]\n",
      "[61.59666454 61.59666454 61.59666454 61.59666454 53.18547906 64.69076333\n",
      " 57.84830785 59.09865696]\n",
      "[61.59666454 61.59666454 61.59666454 61.59666454 53.18547906 64.69076333\n",
      " 57.84830785 59.09865696]\n",
      "[61.59666454 61.59666454 61.59666454 61.59666454 53.18547906 64.69076333\n",
      " 57.84830785 59.09865696]\n",
      "[61.59666454 61.59666454 61.59666454 61.59666454 53.18547906 64.69076333\n",
      " 57.84830785 59.09865696]\n"
     ]
    }
   ],
   "source": [
    "num_generations = 5\n",
    "num_parents_mating = 4\n",
    "\n",
    "for generation in range(num_generations):\n",
    "    # Measuring the fitness of each chromosome in the population.\n",
    "    # I believe this is just Y = x1w1 + ... x6w6\n",
    "    fitness = cal_pop_fitness(equation_inputs, new_population)\n",
    "\n",
    "    #     # Selecting the best parents in the population for mating.\n",
    "#      parents = select_mating_pool(new_population, fitness, \n",
    "#                                        num_parents_mating)\n",
    "        \n",
    "#      # Generating next generation using crossover.\n",
    "#      offspring_crossover = crossover(parents,\n",
    "#                                         offspring_size=(pop_size[0]-parents.shape[0], num_weights))\n",
    " \n",
    "#      # Adding some variations to the offsrping using mutation.\n",
    "#      offspring_mutation = mutation(offspring_crossover)\n",
    "\n",
    "# # Creating the new population based on the parents and offspring.\n",
    "#      new_population[0:parents.shape[0], :] = parents\n",
    "#      new_population[parents.shape[0]:, :] = offspring_mutation"
   ]
  },
  {
   "cell_type": "code",
   "execution_count": 14,
   "metadata": {},
   "outputs": [],
   "source": [
    "def cal_pop_fitness(equation_inputs, pop):\n",
    "     # Calculating the fitness value of each solution in the current population.\n",
    "     # The fitness function calculates the sum of products between each input and its corresponding weight.\n",
    "     fitness = numpy.sum(pop*equation_inputs, axis=1)\n",
    "     return fitness"
   ]
  },
  {
   "cell_type": "code",
   "execution_count": null,
   "metadata": {},
   "outputs": [],
   "source": []
  }
 ],
 "metadata": {
  "kernelspec": {
   "display_name": "Python 3",
   "language": "python",
   "name": "python3"
  },
  "language_info": {
   "codemirror_mode": {
    "name": "ipython",
    "version": 3
   },
   "file_extension": ".py",
   "mimetype": "text/x-python",
   "name": "python",
   "nbconvert_exporter": "python",
   "pygments_lexer": "ipython3",
   "version": "3.9.1"
  }
 },
 "nbformat": 4,
 "nbformat_minor": 4
}
