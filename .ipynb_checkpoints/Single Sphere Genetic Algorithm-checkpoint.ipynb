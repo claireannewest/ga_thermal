{
 "cells": [
  {
   "cell_type": "code",
   "execution_count": 1,
   "metadata": {},
   "outputs": [],
   "source": [
    "import numpy as np\n",
    "from scipy.special import spherical_jn\n",
    "from scipy.special import spherical_yn\n",
    "e = 4.80326E-10 # elementary charge, [statC, g^1/2 cm^3/2 s^-1]                 \n",
    "c = 2.998E+10 # speed of light [cm/s]                                           \n",
    "hbar_eVs = 6.58212E-16 # Planck's constant [eV*s]     "
   ]
  },
  {
   "cell_type": "code",
   "execution_count": 17,
   "metadata": {},
   "outputs": [],
   "source": [
    "class DipoleParameters:\n",
    "    def __init__(self, radius, w, n, wp, eps_inf, gam_drude):\n",
    "        \"\"\"Defines the different system parameters.\n",
    "        \n",
    "        Keyword arguments:\n",
    "        radius -- radius of sphere [cm]\n",
    "        w -- frequency of incident light [1/s]\n",
    "        n -- [unitless] refractive index of background \n",
    "        wp -- [1/s] bulk plasma frequency\n",
    "        eps_inf -- [unitless] static dielectric response of ionic background \n",
    "        \"\"\"\n",
    "        self.radius = radius\n",
    "        self.w = w\n",
    "        self.n = n\n",
    "        self.wp = wp\n",
    "        self.eps_inf = eps_inf\n",
    "        self.gam_drude = gam_drude\n",
    "        self.k = self.w/c*self.n\n",
    "\n",
    "    def psi(self, rho):\n",
    "        return rho*spherical_jn(1, rho)\n",
    "\n",
    "    def psi_prime(self, rho):\n",
    "        return spherical_jn(1, rho) + rho*spherical_jn(1, rho, derivative=True)\n",
    "\n",
    "    def hankel(self, rho):\n",
    "        return spherical_jn(1, rho) + 1j*spherical_yn(1, rho)\n",
    "\n",
    "    def hankel_prime(self, rho):\n",
    "        return spherical_jn(1, rho, derivative=True) + 1j*spherical_yn(1, rho,derivative=True)\n",
    "\n",
    "    def xi(self, rho):\n",
    "        return rho*self.hankel(rho)\n",
    "\n",
    "    def xi_prime(self, rho):\n",
    "        return self.hankel(rho) + rho*self.hankel_prime(rho)\n",
    "\n",
    "    def mie_coefficients(self):\n",
    "        eps = self.eps_inf - self.wp**2/(self.w**2 + 1j*self.w*self.gam_drude)\n",
    "        m = np.sqrt(eps)\n",
    "        x = self.k*self.radius\n",
    "        numer_a = m*self.psi(m*x)*self.psi_prime(x) - self.psi(x)*self.psi_prime(m*x)\n",
    "        denom_a = m*self.psi(m*x)*self.xi_prime(x) - self.xi(x)*self.psi_prime(m*x)\n",
    "        numer_b = self.psi(m*x)*self.psi_prime(x) - m*self.psi(x)*self.psi_prime(m*x)\n",
    "        denom_b = self.psi(m*x)*self.xi_prime(x) - m*self.xi(x)*self.psi_prime(m*x)\n",
    "        a = numer_a/denom_a\n",
    "        b = numer_b/denom_b\n",
    "        return a, b\n",
    "    \n",
    "    def cross_sections(self):\n",
    "        a, b = self.mie_coefficients()\n",
    "        Q_s = 2./(self.k**2*self.radius**2)*(2+1)*(np.abs(a)**2 + np.abs(b)**2)\n",
    "        Q_e = 2./(self.k**2*self.radius**2)*(2+1)*np.real(a + b)\n",
    "        Q_a = Q_e - Q_s\n",
    "        abs_cross = Q_a*np.pi*self.radius**2\n",
    "        return abs_cross # cm^2\n",
    "    \n",
    "    def T_int(self):\n",
    "        ''' Temperature of a single sphere.\n",
    "        '''\n",
    "        kap_out = 0.6 # thermal cond. of background [W/(m*K)]\n",
    "        kap_in = 314 # thermal cond. of metal [W/(m*K)]\n",
    "        I0 = 1E9 # incident intensity [W/m^2]\n",
    "        r = 0 # evaluate T at center of sphere\n",
    "        Q = self.cross_sections()*I0*(1/100)**2 # [W]\n",
    "        radius_m = self.radius*(1/100) # [m]\n",
    "        return Q/(4*np.pi*kap_out*radius_m) + Q/(8*np.pi*kap_in*radius_m**3)*(radius_m**2-r**2)\n"
   ]
  },
  {
   "cell_type": "code",
   "execution_count": 19,
   "metadata": {},
   "outputs": [
    {
     "name": "stdout",
     "output_type": "stream",
     "text": [
      "19.789063745462414\n"
     ]
    }
   ],
   "source": [
    "rad_sph = 10.E-7 # cm\n",
    "sphere = DipoleParameters(radius=rad_sph,\n",
    "                          w = 2.61/hbar_eVs,\n",
    "                          n=1.0, \n",
    "                          wp=8.959/hbar_eVs, \n",
    "                          eps_inf=9.695, \n",
    "                          gam_drude=0.073/hbar_eVs\n",
    "                         )\n",
    "T_int = sphere.T_int()\n",
    "print(T_int)"
   ]
  },
  {
   "cell_type": "markdown",
   "metadata": {},
   "source": [
    "## What wavelength will maximize T?\n",
    "Find parameters (weights) that maximize equation."
   ]
  },
  {
   "cell_type": "code",
   "execution_count": 26,
   "metadata": {},
   "outputs": [
    {
     "name": "stdout",
     "output_type": "stream",
     "text": [
      "[[0.50981103]\n",
      " [2.33641019]\n",
      " [3.98473099]\n",
      " [0.82912713]\n",
      " [2.8598735 ]\n",
      " [2.05559041]\n",
      " [2.67747409]\n",
      " [2.34438339]]\n"
     ]
    }
   ],
   "source": [
    "# Inputs of the equation.\n",
    "equation_inputs = [2]\n",
    "\n",
    "# Number of the weights we are looking to optimize.\n",
    "num_weights = 1\n",
    "\n",
    "# Defining the population size.\n",
    "sol_per_pop = 8\n",
    "\n",
    "# The population will have sol_per_pop chromosome where each chromosome has num_weights genes.\n",
    "pop_size = (sol_per_pop, num_weights) \n",
    "\n",
    "# Creating the initial population.\n",
    "new_population = np.random.uniform(low=0.1, high=4.0, size=pop_size)\n",
    "\n",
    "print(new_population)"
   ]
  },
  {
   "cell_type": "code",
   "execution_count": null,
   "metadata": {},
   "outputs": [],
   "source": []
  },
  {
   "cell_type": "code",
   "execution_count": null,
   "metadata": {},
   "outputs": [],
   "source": []
  }
 ],
 "metadata": {
  "kernelspec": {
   "display_name": "Python 3",
   "language": "python",
   "name": "python3"
  },
  "language_info": {
   "codemirror_mode": {
    "name": "ipython",
    "version": 3
   },
   "file_extension": ".py",
   "mimetype": "text/x-python",
   "name": "python",
   "nbconvert_exporter": "python",
   "pygments_lexer": "ipython3",
   "version": "3.8.3"
  }
 },
 "nbformat": 4,
 "nbformat_minor": 4
}
