{
 "cells": [
  {
   "cell_type": "code",
   "execution_count": 1,
   "metadata": {},
   "outputs": [],
   "source": [
    "import numpy as np\n",
    "import matplotlib.pyplot as plt\n",
    "hbar_eVs = 6.58212E-16 # Planck's constant [eV*s]\n",
    "c = 2.998E+10 # speed of light [cm/s]\n",
    "\n",
    "## Import coupled dipole code. Can be found at https://github.com/claireannewest/coupled_dipoles.git\n",
    "## Put your own path here\n",
    "import sys\n",
    "sys.path.insert(1, '/Users/clairewest/werk/research/my_codes/coupled_dipoles')\n",
    "\n",
    "from coupled_dipole_model import Sphere_Polarizability\n",
    "from coupled_dipole_model import CrossSections"
   ]
  },
  {
   "cell_type": "markdown",
   "metadata": {},
   "source": [
    "### Genetic Algorithm Equations"
   ]
  },
  {
   "cell_type": "code",
   "execution_count": 31,
   "metadata": {},
   "outputs": [],
   "source": [
    "def calc_analytics(w_all, gap, pop_size):\n",
    "    \"\"\"This function plots the individual particle and total cross-sections.\n",
    "    \n",
    "    drive -- polarization of light (e.g. x polarized = np.array([1, 0, 0]) )\n",
    "    \"\"\"\n",
    "    num_part_per_struct = 2\n",
    "    w_all = w_all/hbar_eVs\n",
    "    num_freq = len(w_all)\n",
    "    num_gap = len(gap)\n",
    "    Pabs = np.zeros((pop_size[0], num_part_per_struct))\n",
    "\n",
    "    # loop through frequencies + gaps (sad face)\n",
    "    for which_gap in range(0, num_gap):\n",
    "        for which_freq in range(0, num_freq):\n",
    "            def_centers = np.zeros((1, 1, 1, num_part_per_struct, 3)) \n",
    "            def_all_radii = np.zeros((1, 1, 1, num_part_per_struct)) \n",
    "            def_all_radii[0,0,0,0] = 10*1.E-7\n",
    "            def_all_radii[0,0,0,1] = 20*1.E-7\n",
    "\n",
    "\n",
    "            which_radii_0 = def_all_radii[0, 0, 0, 0]*1.E7\n",
    "            def_centers[0,0, :, 0,:] = np.array([ 0, 0, -which_radii_0-which_gap/2 ])*1.E-7\n",
    "            which_radii_1 = def_all_radii[0, 0, 0, 1]*1.E7\n",
    "            def_centers[0,0, :, 1,:] = np.array([ 0, 0, which_radii_1+which_gap/2 ])*1.E-7    \n",
    "\n",
    "            calc_dips = CrossSections(centers=def_centers, \n",
    "                                           all_radii=def_all_radii,\n",
    "                                           w=which_freq,\n",
    "                                           num=num_part_per_struct, \n",
    "                                           n=1.0, \n",
    "                                           wp=8.959/hbar_eVs, \n",
    "                                           eps_inf=9.695, \n",
    "                                           gam_drude=0.073/hbar_eVs)    \n",
    "#             _, Pabs = calc_dips.cross_sects(drive=np.array([0,0,1]))\n",
    "    return Pabs \n",
    "\n"
   ]
  },
  {
   "cell_type": "code",
   "execution_count": 32,
   "metadata": {},
   "outputs": [],
   "source": [
    "def cal_pop_fitness(pop):\n",
    "    # Calculating the fitness value of each solution in the current population.\n",
    "    # Wavelength where abs_1 - abs_2 is max and vice versa\n",
    "    Pabs = calc_analytics(w_all=pop[:,0], gap=pop[:,1], pop_size = pop.shape)\n",
    "#     fitness = Pabs[1,:,:,1] - Pabs[1,:,:,0]\n",
    "#     return fitness\n"
   ]
  },
  {
   "cell_type": "code",
   "execution_count": 33,
   "metadata": {},
   "outputs": [],
   "source": [
    "def select_mating_pool(pop, fitness, num_parents):\n",
    "    # Selecting the best individuals in the current generation as parents for producing the offspring of the next generation.\n",
    "    parents = np.empty((num_parents, pop.shape[1]))\n",
    "    for parent_num in range(num_parents):\n",
    "        max_fitness_idx = np.where(fitness == np.max(fitness))\n",
    "        max_fitness_idx = max_fitness_idx[0][0]\n",
    "        parents[parent_num, :] = pop[max_fitness_idx, :]\n",
    "        fitness[max_fitness_idx] = -99999999999\n",
    "    return parents\n",
    "\n",
    "def crossover(parents, offspring_size):\n",
    "    offspring = np.empty(offspring_size)\n",
    "    # The point at which crossover takes place between two parents. Usually it is at the center.\n",
    "    crossover_point = np.uint8(offspring_size[1]/2)\n",
    "    for k in range(offspring_size[0]):\n",
    "        # Index of the first parent to mate.\n",
    "        parent1_idx = k%parents.shape[0]\n",
    "        # Index of the second parent to mate.\n",
    "        parent2_idx = (k+1)%parents.shape[0]\n",
    "        # The new offspring will have its first half of its genes taken from the first parent.\n",
    "        offspring[k, 0:crossover_point] = parents[parent1_idx, 0:crossover_point]\n",
    "        # The new offspring will have its second half of its genes taken from the second parent.\n",
    "        offspring[k, crossover_point:] = parents[parent2_idx, crossover_point:]\n",
    "    return offspring\n",
    "\n",
    "\n",
    "def mutation(offspring_crossover):\n",
    "    # Mutation changes a single gene in each offspring randomly.\n",
    "    for idx in range(offspring_crossover.shape[0]):\n",
    "        # The random value to be added to the gene.\n",
    "        random_value = np.random.uniform(-0.01, 0.01, 1)\n",
    "        mut_idx = 0\n",
    "        offspring_crossover[idx, mut_idx] = offspring_crossover[idx, mut_idx] + random_value\n",
    "    return offspring_crossover\n"
   ]
  },
  {
   "cell_type": "markdown",
   "metadata": {},
   "source": [
    "### Defining initial population"
   ]
  },
  {
   "cell_type": "code",
   "execution_count": 34,
   "metadata": {},
   "outputs": [
    {
     "ename": "IndexError",
     "evalue": "index 1 is out of bounds for axis 0 with size 1",
     "output_type": "error",
     "traceback": [
      "\u001b[0;31m---------------------------------------------------------------------------\u001b[0m",
      "\u001b[0;31mIndexError\u001b[0m                                Traceback (most recent call last)",
      "\u001b[0;32m<ipython-input-34-1d4df50885d6>\u001b[0m in \u001b[0;36m<module>\u001b[0;34m\u001b[0m\n\u001b[1;32m     12\u001b[0m \u001b[0minitial_population\u001b[0m\u001b[0;34m[\u001b[0m\u001b[0;34m:\u001b[0m\u001b[0;34m,\u001b[0m\u001b[0;36m1\u001b[0m\u001b[0;34m]\u001b[0m \u001b[0;34m=\u001b[0m \u001b[0mnp\u001b[0m\u001b[0;34m.\u001b[0m\u001b[0mrandom\u001b[0m\u001b[0;34m.\u001b[0m\u001b[0muniform\u001b[0m\u001b[0;34m(\u001b[0m\u001b[0mlow\u001b[0m\u001b[0;34m=\u001b[0m\u001b[0;36m1.0\u001b[0m\u001b[0;34m,\u001b[0m \u001b[0mhigh\u001b[0m\u001b[0;34m=\u001b[0m\u001b[0;36m30.\u001b[0m\u001b[0;34m,\u001b[0m \u001b[0msize\u001b[0m\u001b[0;34m=\u001b[0m\u001b[0;34m(\u001b[0m\u001b[0msol_per_pop\u001b[0m\u001b[0;34m)\u001b[0m\u001b[0;34m)\u001b[0m\u001b[0;34m\u001b[0m\u001b[0;34m\u001b[0m\u001b[0m\n\u001b[1;32m     13\u001b[0m \u001b[0;34m\u001b[0m\u001b[0m\n\u001b[0;32m---> 14\u001b[0;31m \u001b[0mcal_pop_fitness\u001b[0m\u001b[0;34m(\u001b[0m\u001b[0mpop\u001b[0m\u001b[0;34m=\u001b[0m\u001b[0minitial_population\u001b[0m\u001b[0;34m)\u001b[0m\u001b[0;34m\u001b[0m\u001b[0;34m\u001b[0m\u001b[0m\n\u001b[0m",
      "\u001b[0;32m<ipython-input-32-a02fc1f8508e>\u001b[0m in \u001b[0;36mcal_pop_fitness\u001b[0;34m(pop)\u001b[0m\n\u001b[1;32m      2\u001b[0m     \u001b[0;31m# Calculating the fitness value of each solution in the current population.\u001b[0m\u001b[0;34m\u001b[0m\u001b[0;34m\u001b[0m\u001b[0;34m\u001b[0m\u001b[0m\n\u001b[1;32m      3\u001b[0m     \u001b[0;31m# Wavelength where abs_1 - abs_2 is max and vice versa\u001b[0m\u001b[0;34m\u001b[0m\u001b[0;34m\u001b[0m\u001b[0;34m\u001b[0m\u001b[0m\n\u001b[0;32m----> 4\u001b[0;31m     \u001b[0mPabs\u001b[0m \u001b[0;34m=\u001b[0m \u001b[0mcalc_analytics\u001b[0m\u001b[0;34m(\u001b[0m\u001b[0mw_all\u001b[0m\u001b[0;34m=\u001b[0m\u001b[0mpop\u001b[0m\u001b[0;34m[\u001b[0m\u001b[0;34m:\u001b[0m\u001b[0;34m,\u001b[0m\u001b[0;36m0\u001b[0m\u001b[0;34m]\u001b[0m\u001b[0;34m,\u001b[0m \u001b[0mgap\u001b[0m\u001b[0;34m=\u001b[0m\u001b[0mpop\u001b[0m\u001b[0;34m[\u001b[0m\u001b[0;34m:\u001b[0m\u001b[0;34m,\u001b[0m\u001b[0;36m1\u001b[0m\u001b[0;34m]\u001b[0m\u001b[0;34m,\u001b[0m \u001b[0mpop_size\u001b[0m \u001b[0;34m=\u001b[0m \u001b[0mpop\u001b[0m\u001b[0;34m.\u001b[0m\u001b[0mshape\u001b[0m\u001b[0;34m)\u001b[0m\u001b[0;34m\u001b[0m\u001b[0;34m\u001b[0m\u001b[0m\n\u001b[0m\u001b[1;32m      5\u001b[0m \u001b[0;31m#     fitness = Pabs[1,:,:,1] - Pabs[1,:,:,0]\u001b[0m\u001b[0;34m\u001b[0m\u001b[0;34m\u001b[0m\u001b[0;34m\u001b[0m\u001b[0m\n\u001b[1;32m      6\u001b[0m \u001b[0;31m#     return fitness\u001b[0m\u001b[0;34m\u001b[0m\u001b[0;34m\u001b[0m\u001b[0;34m\u001b[0m\u001b[0m\n",
      "\u001b[0;32m<ipython-input-31-0fe34c01fc70>\u001b[0m in \u001b[0;36mcalc_analytics\u001b[0;34m(w_all, gap, pop_size)\u001b[0m\n\u001b[1;32m     22\u001b[0m             \u001b[0mdef_centers\u001b[0m\u001b[0;34m[\u001b[0m\u001b[0;36m0\u001b[0m\u001b[0;34m,\u001b[0m\u001b[0;36m0\u001b[0m\u001b[0;34m,\u001b[0m \u001b[0;34m:\u001b[0m\u001b[0;34m,\u001b[0m \u001b[0;36m0\u001b[0m\u001b[0;34m,\u001b[0m\u001b[0;34m:\u001b[0m\u001b[0;34m]\u001b[0m \u001b[0;34m=\u001b[0m \u001b[0mnp\u001b[0m\u001b[0;34m.\u001b[0m\u001b[0marray\u001b[0m\u001b[0;34m(\u001b[0m\u001b[0;34m[\u001b[0m \u001b[0;36m0\u001b[0m\u001b[0;34m,\u001b[0m \u001b[0;36m0\u001b[0m\u001b[0;34m,\u001b[0m \u001b[0;34m-\u001b[0m\u001b[0mwhich_radii_0\u001b[0m\u001b[0;34m-\u001b[0m\u001b[0mwhich_gap\u001b[0m\u001b[0;34m/\u001b[0m\u001b[0;36m2\u001b[0m \u001b[0;34m]\u001b[0m\u001b[0;34m)\u001b[0m\u001b[0;34m*\u001b[0m\u001b[0;36m1.E-7\u001b[0m\u001b[0;34m\u001b[0m\u001b[0;34m\u001b[0m\u001b[0m\n\u001b[1;32m     23\u001b[0m             \u001b[0mwhich_radii_1\u001b[0m \u001b[0;34m=\u001b[0m \u001b[0mdef_all_radii\u001b[0m\u001b[0;34m[\u001b[0m\u001b[0;36m0\u001b[0m\u001b[0;34m,\u001b[0m \u001b[0;36m0\u001b[0m\u001b[0;34m,\u001b[0m \u001b[0;36m0\u001b[0m\u001b[0;34m,\u001b[0m \u001b[0;36m1\u001b[0m\u001b[0;34m]\u001b[0m\u001b[0;34m*\u001b[0m\u001b[0;36m1.E7\u001b[0m\u001b[0;34m\u001b[0m\u001b[0;34m\u001b[0m\u001b[0m\n\u001b[0;32m---> 24\u001b[0;31m             \u001b[0mdef_centers\u001b[0m\u001b[0;34m[\u001b[0m\u001b[0;36m1\u001b[0m\u001b[0;34m,\u001b[0m\u001b[0;36m0\u001b[0m\u001b[0;34m,\u001b[0m \u001b[0;34m:\u001b[0m\u001b[0;34m,\u001b[0m \u001b[0;36m1\u001b[0m\u001b[0;34m,\u001b[0m\u001b[0;34m:\u001b[0m\u001b[0;34m]\u001b[0m \u001b[0;34m=\u001b[0m \u001b[0mnp\u001b[0m\u001b[0;34m.\u001b[0m\u001b[0marray\u001b[0m\u001b[0;34m(\u001b[0m\u001b[0;34m[\u001b[0m \u001b[0;36m0\u001b[0m\u001b[0;34m,\u001b[0m \u001b[0;36m0\u001b[0m\u001b[0;34m,\u001b[0m \u001b[0mwhich_radii_1\u001b[0m\u001b[0;34m+\u001b[0m\u001b[0mwhich_gap\u001b[0m\u001b[0;34m/\u001b[0m\u001b[0;36m2\u001b[0m \u001b[0;34m]\u001b[0m\u001b[0;34m)\u001b[0m\u001b[0;34m*\u001b[0m\u001b[0;36m1.E-7\u001b[0m\u001b[0;34m\u001b[0m\u001b[0;34m\u001b[0m\u001b[0m\n\u001b[0m\u001b[1;32m     25\u001b[0m \u001b[0;34m\u001b[0m\u001b[0m\n\u001b[1;32m     26\u001b[0m             calc_dips = CrossSections(centers=def_centers, \n",
      "\u001b[0;31mIndexError\u001b[0m: index 1 is out of bounds for axis 0 with size 1"
     ]
    }
   ],
   "source": [
    "num_weights = 2 # we'll guess lambda and gap size\n",
    "sol_per_pop = 8 \n",
    "\n",
    "# The population will have sol_per_pop chromosome where each chromosome has num_weights genes.\n",
    "pop_size = (sol_per_pop, num_weights) \n",
    "\n",
    "# Creating the initial population.\n",
    "initial_population = np.zeros(pop_size)\n",
    "## Frequency\n",
    "initial_population[:,0] = np.random.uniform(low=2.0, high=3.0, size=(sol_per_pop))\n",
    "## Gap                   \n",
    "initial_population[:,1] = np.random.uniform(low=1.0, high=30., size=(sol_per_pop))\n",
    "\n",
    "cal_pop_fitness(pop=initial_population)"
   ]
  },
  {
   "cell_type": "code",
   "execution_count": null,
   "metadata": {},
   "outputs": [],
   "source": [
    "num_generations = 1\n",
    "num_parents_mating = 4\n",
    "new_population = initial_population\n",
    "\n",
    "for generation in range(num_generations):\n",
    "    # Measuring the fitness of each chromosome in the population.\n",
    "    # i.e. calculates T(lambda). The greater the T, the better the answer.\n",
    "    fitness = cal_pop_fitness(new_population)\n",
    "    \n",
    "    # Selecting the best parents in the population for mating.\n",
    "    parents = select_mating_pool(new_population, fitness, \n",
    "                                       num_parents_mating)\n",
    "    \n",
    "    # Generating next generation using crossover.\n",
    "    offspring_crossover = crossover(parents,\n",
    "                                        offspring_size=(pop_size[0]-parents.shape[0], num_weights))\n",
    "\n",
    "    # Adding some variations to the offsrping using mutation. (It's currently hitting the 4th gene)\n",
    "    offspring_mutation = mutation(offspring_crossover)\n",
    "    \n",
    "    # Creating the new population based on the parents and offspring.\n",
    "    # We keep the parents just in case all the randomly generated offspring are worse. This prevents us from going backwards.\n",
    "    # 4 parents, 4 offspring\n",
    "    new_population[0:parents.shape[0], :] = parents\n",
    "    new_population[parents.shape[0]:, :] = offspring_mutation\n",
    "    \n",
    "    # The best result in the current iteration.\n",
    "#     print(\"Best result : \", np.max(cal_pop_fitness(new_population)))\n",
    "\n",
    "# Getting the best solution after iterating finishing all generations.\n",
    "# At first, the fitness is calculated for each solution in the final generation.\n",
    "fitness = cal_pop_fitness(new_population)\n",
    "# Then return the index of that solution corresponding to the best fitness.\n",
    "best_match_idx = np.where(fitness == np.max(fitness))\n",
    "\n",
    "\n",
    "init_fitness = cal_pop_fitness(initial_population)\n",
    "init_match_idx = np.where(init_fitness == np.max(init_fitness))\n",
    "\n",
    "# print(\"Initial solution : \", initial_population[init_match_idx, :])\n",
    "# print(\"Initial solution fitness : \", fitness[init_match_idx])\n",
    "print(init_fitness.shape)\n",
    "\n",
    "\n",
    "# print(\"Best solution : \", new_population[best_match_idx, :])\n",
    "# print(\"Best solution fitness : \", fitness[best_match_idx])\n",
    "# print(\"idx\", best_match_idx)\n"
   ]
  },
  {
   "cell_type": "code",
   "execution_count": null,
   "metadata": {},
   "outputs": [],
   "source": [
    "w = np.arange(2, 3, .008)\n",
    "\n",
    "Pabs = calc_analytics(w_all=w, gap=np.array([1.427]))\n",
    "# print(Pabs.shape)\n",
    "# plt.plot(w, Pabs[1, 0,:,1]+Pabs[1, 0,:,0],label='Total')\n",
    "# plt.plot(w, Pabs[1, 0,:,0],label='$P_1$')\n",
    "# plt.plot(w, Pabs[1, 0,:,1],label='$P_2$')\n",
    "# plt.legend()\n",
    "\n",
    "\n",
    "\n",
    "plt.plot(w, Pabs[1, 0,:,1]-Pabs[1, 0,:,0],label='Total')\n",
    "idx = np.where(Pabs[1, 0,:,1]-Pabs[1, 0,:,0] == max(Pabs[1, 0,:,1]-Pabs[1, 0,:,0]))\n",
    "\n",
    "print(w[idx])"
   ]
  },
  {
   "cell_type": "code",
   "execution_count": null,
   "metadata": {},
   "outputs": [],
   "source": []
  }
 ],
 "metadata": {
  "kernelspec": {
   "display_name": "Python 3",
   "language": "python",
   "name": "python3"
  },
  "language_info": {
   "codemirror_mode": {
    "name": "ipython",
    "version": 3
   },
   "file_extension": ".py",
   "mimetype": "text/x-python",
   "name": "python",
   "nbconvert_exporter": "python",
   "pygments_lexer": "ipython3",
   "version": "3.8.3"
  }
 },
 "nbformat": 4,
 "nbformat_minor": 4
}
