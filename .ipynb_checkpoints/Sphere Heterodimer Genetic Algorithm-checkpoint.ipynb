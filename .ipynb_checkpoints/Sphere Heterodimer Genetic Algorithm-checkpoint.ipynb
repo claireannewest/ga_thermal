{
 "cells": [
  {
   "cell_type": "code",
   "execution_count": 2,
   "metadata": {},
   "outputs": [],
   "source": [
    "import numpy as np\n",
    "from single_sphere_analytics import DipoleParameters\n",
    "import matplotlib.pyplot as plt\n",
    "\n",
    "hbar_eVs = 6.58212E-16 # Planck's constant [eV*s]\n",
    "c = 2.998E+10 # speed of light [cm/s]\n",
    "import sys\n",
    "sys.path.insert(1, '/Users/clairewest/werk/research/my_codes/coupled_dipoles')\n",
    "from coupled_dipole_model import DipoleParameters\n",
    "from coupled_dipole_model import CalculateCrossSections"
   ]
  },
  {
   "cell_type": "code",
   "execution_count": 43,
   "metadata": {},
   "outputs": [
    {
     "data": {
      "text/plain": [
       "<matplotlib.legend.Legend at 0x7ff6b9d42310>"
      ]
     },
     "execution_count": 43,
     "metadata": {},
     "output_type": "execute_result"
    },
    {
     "data": {
      "image/png": "[encoded data removed]",
      "text/plain": [
       "<Figure size 300x300 with 1 Axes>"
      ]
     },
     "metadata": {},
     "output_type": "display_data"
    }
   ],
   "source": [
    "def calc_analytics(drive):\n",
    "    \"\"\"This function plots the individual particle and total cross-sections.\n",
    "    \n",
    "    drive -- polarization of light (e.g. x polarized = np.array([1, 0, 0]) )\n",
    "    \"\"\"\n",
    "    w = np.arange(1,3.5,.005)/hbar_eVs\n",
    "    P = np.zeros((num, len(w)))\n",
    "    for i in range(0,len(w)):\n",
    "        _, P[:,i] = calc_dips.cross_sects(w=w[i], drive=drive)\n",
    "    return P \n",
    "    \n",
    "num = 2\n",
    "def make_sphereheterodimer_input(radius1, radius2, gap, N=num):\n",
    "    def_centers = np.zeros((N, 3))\n",
    "    def_all_radii = np.zeros((N))\n",
    "    def_centers[0,:] = np.array([ 0, 0, -radius1-gap/2 ])*1.E-7\n",
    "    def_centers[1,:] = np.array([ 0, 0, radius2+gap/2 ])*1.E-7\n",
    "    def_all_radii[0] = radius1*1.E-7\n",
    "    def_all_radii[1] = radius2*1.E-7\n",
    "    return def_centers, def_all_radii    \n",
    "\n",
    " \n"
   ]
  },
  {
   "cell_type": "code",
   "execution_count": null,
   "metadata": {},
   "outputs": [],
   "source": []
  },
  {
   "cell_type": "code",
   "execution_count": null,
   "metadata": {},
   "outputs": [],
   "source": []
  },
  {
   "cell_type": "code",
   "execution_count": null,
   "metadata": {},
   "outputs": [],
   "source": []
  },
  {
   "cell_type": "markdown",
   "metadata": {},
   "source": [
    "### Genetic Algorithm Equations"
   ]
  },
  {
   "cell_type": "code",
   "execution_count": null,
   "metadata": {},
   "outputs": [],
   "source": [
    "def cal_pop_fitness(pop):\n",
    "    # Calculating the fitness value of each solution in the current population.\n",
    "    # Wavelength where abs_1 - abs_2 is max and vice versa\n",
    "    def_centers, def_all_radii = make_sphereheterodimer_input(radius1=30, \n",
    "                                                        radius2=50,\n",
    "                                                        gap=10)\n",
    "    calc_dips = CalculateCrossSections(centers=def_centers, \n",
    "                                   all_radii=def_all_radii, \n",
    "                                   num=num, \n",
    "                                   n=1.3, \n",
    "                                   wp=8.959/hbar_eVs, \n",
    "                                   eps_inf=9.695, \n",
    "                                   gam_drude=0.073/hbar_eVs)   \n",
    "\n",
    "    calc_analytics(drive=np.array([0,0,1]))  \n",
    "    fitness = T_int\n",
    "    return fitness\n",
    "\n",
    "def select_mating_pool(pop, fitness, num_parents):\n",
    "    # Selecting the best individuals in the current generation as parents for producing the offspring of the next generation.\n",
    "    parents = np.empty((num_parents, pop.shape[1]))\n",
    "    for parent_num in range(num_parents):\n",
    "        max_fitness_idx = np.where(fitness == np.max(fitness))\n",
    "        max_fitness_idx = max_fitness_idx[0][0]\n",
    "        parents[parent_num, :] = pop[max_fitness_idx, :]\n",
    "        fitness[max_fitness_idx] = -99999999999\n",
    "    return parents\n",
    "\n",
    "def crossover(parents, offspring_size):\n",
    "    offspring = np.empty(offspring_size)\n",
    "    # The point at which crossover takes place between two parents. Usually it is at the center.\n",
    "    crossover_point = np.uint8(offspring_size[1]/2)\n",
    "\n",
    "    for k in range(offspring_size[0]):\n",
    "        # Index of the first parent to mate.\n",
    "        parent1_idx = k%parents.shape[0]\n",
    "        # Index of the second parent to mate.\n",
    "        parent2_idx = (k+1)%parents.shape[0]\n",
    "        # The new offspring will have its first half of its genes taken from the first parent.\n",
    "        offspring[k, 0:crossover_point] = parents[parent1_idx, 0:crossover_point]\n",
    "        # The new offspring will have its second half of its genes taken from the second parent.\n",
    "        offspring[k, crossover_point:] = parents[parent2_idx, crossover_point:]\n",
    "    return offspring\n",
    "\n",
    "def mutation(offspring_crossover):\n",
    "    # Mutation changes a single gene in each offspring randomly.\n",
    "    for idx in range(offspring_crossover.shape[0]):\n",
    "        # The random value to be added to the gene.\n",
    "        random_value = np.random.uniform(-0.5, 0.5, 1)\n",
    "        mut_idx = 0\n",
    "        offspring_crossover[idx, mut_idx] = offspring_crossover[idx, mut_idx] + random_value\n",
    "    return offspring_crossover\n"
   ]
  },
  {
   "cell_type": "markdown",
   "metadata": {},
   "source": [
    "### Defining initial population"
   ]
  },
  {
   "cell_type": "code",
   "execution_count": null,
   "metadata": {},
   "outputs": [],
   "source": [
    "num_weights = 1 # only guessing lambda\n",
    "sol_per_pop = 8 \n",
    "\n",
    "# The population will have sol_per_pop chromosome where each chromosome has num_weights genes.\n",
    "pop_size = (sol_per_pop, num_weights) \n",
    "\n",
    "# Creating the initial population.\n",
    "new_population = np.random.uniform(low=0.1, high=4., size=pop_size)\n",
    "\n",
    "cal_pop_fitness(new_population)"
   ]
  },
  {
   "cell_type": "code",
   "execution_count": null,
   "metadata": {},
   "outputs": [],
   "source": [
    "num_generations = 100\n",
    "num_parents_mating = 4\n",
    "\n",
    "for generation in range(num_generations):\n",
    "    # Measuring the fitness of each chromosome in the population.\n",
    "    # i.e. calculates T(lambda). The greater the T, the better the answer.\n",
    "    fitness = cal_pop_fitness(new_population)\n",
    "    \n",
    "    # Selecting the best parents in the population for mating.\n",
    "    parents = select_mating_pool(new_population, fitness, \n",
    "                                       num_parents_mating)\n",
    "    \n",
    "    # Generating next generation using crossover.\n",
    "    offspring_crossover = crossover(parents,\n",
    "                                        offspring_size=(pop_size[0]-parents.shape[0], num_weights))\n",
    "\n",
    "    # Adding some variations to the offsrping using mutation. (It's currently hitting the 4th gene)\n",
    "    offspring_mutation = mutation(offspring_crossover)\n",
    "    \n",
    "    # Creating the new population based on the parents and offspring.\n",
    "    # We keep the parents just in case all the randomly generated offspring are worse. This prevents us from going backwards.\n",
    "    # 4 parents, 4 offspring\n",
    "    new_population[0:parents.shape[0], :] = parents\n",
    "    new_population[parents.shape[0]:, :] = offspring_mutation\n",
    "    \n",
    "    # The best result in the current iteration.\n",
    "    print(\"Best result : \", np.max(cal_pop_fitness(new_population)))\n",
    "\n",
    "# Getting the best solution after iterating finishing all generations.\n",
    "#At first, the fitness is calculated for each solution in the final generation.\n",
    "fitness = cal_pop_fitness(new_population)\n",
    "# Then return the index of that solution corresponding to the best fitness.\n",
    "best_match_idx = np.where(fitness == np.max(fitness))\n",
    "\n",
    "# print(\"Best solution : \", new_population[best_match_idx, :])\n",
    "print(\"Best solution fitness : \", fitness[best_match_idx])\n",
    "\n",
    "print(new_population[best_match_idx])"
   ]
  },
  {
   "cell_type": "code",
   "execution_count": null,
   "metadata": {},
   "outputs": [],
   "source": []
  },
  {
   "cell_type": "code",
   "execution_count": null,
   "metadata": {},
   "outputs": [],
   "source": []
  }
 ],
 "metadata": {
  "kernelspec": {
   "display_name": "Python 3",
   "language": "python",
   "name": "python3"
  },
  "language_info": {
   "codemirror_mode": {
    "name": "ipython",
    "version": 3
   },
   "file_extension": ".py",
   "mimetype": "text/x-python",
   "name": "python",
   "nbconvert_exporter": "python",
   "pygments_lexer": "ipython3",
   "version": "3.9.1"
  }
 },
 "nbformat": 4,
 "nbformat_minor": 4
}
