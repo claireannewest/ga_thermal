{
 "cells": [
  {
   "cell_type": "code",
   "execution_count": 1,
   "metadata": {},
   "outputs": [],
   "source": [
    "import numpy as np\n",
    "import matplotlib.pyplot as plt\n",
    "hbar_eVs = 6.58212E-16 # Planck's constant [eV*s]\n",
    "c = 2.998E+10 # speed of light [cm/s]\n",
    "\n",
    "## Import coupled dipole code. Can be found at https://github.com/claireannewest/coupled_dipoles.git\n",
    "## Put your own path here\n",
    "import sys\n",
    "sys.path.insert(1, '/Users/clairewest/werk/research/my_codes/coupled_dipoles')\n",
    "\n",
    "from coupled_dipole_model import Sphere_Polarizability\n",
    "from coupled_dipole_model import CrossSections"
   ]
  },
  {
   "cell_type": "markdown",
   "metadata": {},
   "source": [
    "### Genetic Algorithm Equations"
   ]
  },
  {
   "cell_type": "code",
   "execution_count": 2,
   "metadata": {},
   "outputs": [],
   "source": [
    "def calc_analytics(w_all, gap, pop_size):\n",
    "    \"\"\"This function plots the individual particle and total cross-sections.\n",
    "    \n",
    "    drive -- polarization of light (e.g. x polarized = np.array([1, 0, 0]) )\n",
    "    \"\"\"\n",
    "    num_part_per_struct = 2\n",
    "    w_all = w_all/hbar_eVs\n",
    "    num_freq = len(w_all)\n",
    "    num_gap = len(gap)\n",
    "    Pabs_tot = np.zeros((pop_size[0], num_part_per_struct))\n",
    "\n",
    "    # loop through frequencies + gaps (sad face)\n",
    "    for i in range(0, pop_size[0]):\n",
    "        which_gap = gap[i]\n",
    "        which_freq = w_all[i]\n",
    "\n",
    "        def_centers = np.zeros((1, 1, 1, num_part_per_struct, 3)) \n",
    "        def_all_radii = np.zeros((1, 1, 1, num_part_per_struct)) \n",
    "        def_all_radii[0,0,0,0] = 20*1.E-7\n",
    "        def_all_radii[0,0,0,1] = 10*1.E-7\n",
    "\n",
    "        which_radii_0 = def_all_radii[0, 0, 0, 0]*1.E7\n",
    "        def_centers[0,0, :, 0,:] = np.array([ 0, 0, -which_radii_0-which_gap/2 ])*1.E-7\n",
    "        which_radii_1 = def_all_radii[0, 0, 0, 1]*1.E7\n",
    "        def_centers[0,0, :, 1,:] = np.array([ 0, 0, which_radii_1+which_gap/2 ])*1.E-7    \n",
    "\n",
    "        calc_dips = CrossSections(centers=def_centers, \n",
    "                                       all_radii=def_all_radii,\n",
    "                                       w=which_freq,\n",
    "                                       num=num_part_per_struct, \n",
    "                                       n=1.0, \n",
    "                                       wp=8.959/hbar_eVs, \n",
    "                                       eps_inf=9.695, \n",
    "                                       gam_drude=0.073/hbar_eVs)    \n",
    "        _, Pabs = calc_dips.cross_sects(drive=np.array([0,0,1]))\n",
    "        Pabs_tot[i,0] = Pabs[0,0,0,0]\n",
    "        Pabs_tot[i,1] = Pabs[0,0,0,1]\n",
    "    return Pabs_tot \n",
    "\n"
   ]
  },
  {
   "cell_type": "code",
   "execution_count": 3,
   "metadata": {},
   "outputs": [],
   "source": [
    "def cal_pop_fitness(pop):\n",
    "    # Calculating the fitness value of each solution in the current population.\n",
    "    # Wavelength where abs_1 - abs_2 is max and vice versa\n",
    "    Pabs = calc_analytics(w_all=pop[:,0], gap=pop[:,1], pop_size = pop.shape)\n",
    "    fitness = Pabs[:,1] - Pabs[:,0]\n",
    "    return fitness\n"
   ]
  },
  {
   "cell_type": "code",
   "execution_count": 4,
   "metadata": {},
   "outputs": [],
   "source": [
    "def select_mating_pool(pop, fitness, num_parents):\n",
    "    # Selecting the best individuals in the current generation as parents for producing the offspring of the next generation.\n",
    "    parents = np.empty((num_parents, pop.shape[1]))\n",
    "    for parent_num in range(num_parents):\n",
    "        max_fitness_idx = np.where(fitness == np.max(fitness))\n",
    "        max_fitness_idx = max_fitness_idx[0][0]\n",
    "        parents[parent_num, :] = pop[max_fitness_idx, :]\n",
    "        fitness[max_fitness_idx] = -99999999999\n",
    "#     print('pop', pop)\n",
    "#     print('parents', parents)\n",
    "    return parents\n",
    "\n",
    "def crossover(parents, offspring_size):\n",
    "    offspring = np.empty(offspring_size)\n",
    "    # The point at which crossover takes place between two parents. Usually it is at the center.\n",
    "    crossover_point = np.uint8(offspring_size[1]/2)\n",
    "    for k in range(offspring_size[0]):\n",
    "        # Index of the first parent to mate.\n",
    "        parent1_idx = k%parents.shape[0]\n",
    "        # Index of the second parent to mate.\n",
    "        parent2_idx = (k+1)%parents.shape[0]\n",
    "        # The new offspring will have its first half of its genes taken from the first parent.\n",
    "        offspring[k, 0:crossover_point] = parents[parent1_idx, 0:crossover_point]\n",
    "        # The new offspring will have its second half of its genes taken from the second parent.\n",
    "        offspring[k, crossover_point:] = parents[parent2_idx, crossover_point:]\n",
    "    return offspring\n",
    "\n",
    "\n",
    "def mutation(offspring_crossover):\n",
    "    # Mutation changes a single gene in each offspring randomly.\n",
    "    for idx in range(offspring_crossover.shape[0]):\n",
    "        # The random value to be added to the gene.\n",
    "        random_value = np.random.uniform(-.008, .008, 1)\n",
    "        mut_idx = 0\n",
    "        offspring_crossover[idx, mut_idx] = offspring_crossover[idx, mut_idx] + random_value\n",
    "    return offspring_crossover\n"
   ]
  },
  {
   "cell_type": "markdown",
   "metadata": {},
   "source": [
    "### Defining initial population"
   ]
  },
  {
   "cell_type": "code",
   "execution_count": 5,
   "metadata": {},
   "outputs": [],
   "source": [
    "num_weights = 2 # we'll guess lambda and gap size\n",
    "sol_per_pop = 20 \n",
    "\n",
    "# The population will have sol_per_pop chromosome where each chromosome has num_weights genes.\n",
    "pop_size = (sol_per_pop, num_weights) \n",
    "\n",
    "# Creating the initial population.\n",
    "initial_population = np.zeros(pop_size)\n",
    "## Frequency\n",
    "initial_population[:,0] = np.random.uniform(low=2.2, high=2.8, size=(sol_per_pop))\n",
    "## Gap                   \n",
    "initial_population[:,1] = np.random.uniform(low=1.0, high=10., size=(sol_per_pop))\n",
    "\n",
    "# print(initial_population)\n",
    "# print('Initial fit', cal_pop_fitness(pop=initial_population))"
   ]
  },
  {
   "cell_type": "code",
   "execution_count": 6,
   "metadata": {},
   "outputs": [
    {
     "name": "stdout",
     "output_type": "stream",
     "text": [
      "Init solution :  [2.58863887 4.00696548] with 0.0003\n",
      "Best solution :  [2.61415966 4.00696548] with 0.0007\n"
     ]
    }
   ],
   "source": [
    "num_generations = 80\n",
    "num_parents_mating = 10\n",
    "new_population = initial_population\n",
    "\n",
    "init_fitness = cal_pop_fitness(initial_population)\n",
    "init_match_idx = np.where(init_fitness == np.max(init_fitness))\n",
    "print(\"Init solution : \", initial_population[init_match_idx, :][0][0], 'with', np.round(init_fitness[init_match_idx][0], 4))\n",
    "\n",
    "for generation in range(num_generations):\n",
    "    # Measuring the fitness of each chromosome in the population.\n",
    "    # i.e. calculates T(lambda). The greater the T, the better the answer.\n",
    "    fitness = cal_pop_fitness(new_population)\n",
    "    \n",
    "    # Selecting the best parents in the population for mating.\n",
    "    parents = select_mating_pool(new_population, fitness, \n",
    "                                       num_parents_mating)\n",
    "    \n",
    "    \n",
    "    # Generating next generation using crossover.\n",
    "    offspring_crossover = crossover(parents,\n",
    "                                        offspring_size=(pop_size[0]-parents.shape[0], num_weights))\n",
    "\n",
    "    # Adding some variations to the offsrping using mutation. (It's currently hitting the 4th gene)\n",
    "    offspring_mutation = mutation(offspring_crossover)\n",
    "    \n",
    "    # Creating the new population based on the parents and offspring.\n",
    "    # We keep the parents just in case all the randomly generated offspring are worse. This prevents us from going backwards.\n",
    "    # 4 parents, 4 offspring\n",
    "    new_population[0:parents.shape[0], :] = parents\n",
    "    new_population[parents.shape[0]:, :] = offspring_mutation\n",
    "#     print('new_pop', new_population)\n",
    "    # The best result in the current iteration.\n",
    "#     print(\"Best result : \", np.max(cal_pop_fitness(new_population)))\n",
    "\n",
    "# Getting the best solution after iterating finishing all generations.\n",
    "# At first, the fitness is calculated for each solution in the final generation.\n",
    "fitness = cal_pop_fitness(pop=new_population)\n",
    "\n",
    "# Then return the index of that solution corresponding to the best fitness.\n",
    "best_match_idx = np.where(fitness == np.max(fitness))\n",
    "print(\"Best solution : \", new_population[best_match_idx, :][0][0], 'with', np.round(fitness[best_match_idx][0], 4))\n"
   ]
  },
  {
   "cell_type": "code",
   "execution_count": 7,
   "metadata": {},
   "outputs": [
    {
     "name": "stdout",
     "output_type": "stream",
     "text": [
      "GA solution 2.614 eV 4.007 nm\n",
      "Actual solution 2.616 0.00071\n"
     ]
    },
    {
     "data": {
      "image/png": "[encoded data removed]",
      "text/plain": [
       "<Figure size 500x200 with 2 Axes>"
      ]
     },
     "metadata": {},
     "output_type": "display_data"
    }
   ],
   "source": [
    "w = np.arange(2.2, 2.8, .008)\n",
    "\n",
    "pred_wave, pred_gap = new_population[best_match_idx, :][0][0]\n",
    "\n",
    "gap_all = np.zeros(len(w))+pred_gap\n",
    "\n",
    "Pabs = calc_analytics(w_all=w, gap=gap_all, pop_size=(len(w),0))\n",
    "\n",
    "\n",
    "fig = plt.figure(figsize=(5.,2.), dpi= 100, facecolor='w', edgecolor='k')\n",
    "ax1 = fig.add_subplot(1, 2, 1)\n",
    "\n",
    "# print(Pabs.shape)\n",
    "ax1.plot(w, Pabs[:,1]+Pabs[:,0],label='Total')\n",
    "ax1.plot(w, Pabs[:,0],label='$P_0$')\n",
    "ax1.plot(w, Pabs[:,1],label='$P_1$')\n",
    "ax1.legend()\n",
    "\n",
    "ax2 = fig.add_subplot(1, 2, 2)\n",
    "ax2.plot(w, Pabs[:,1]-Pabs[:,0],label='P_1 - P_0',color=\"tab:red\")\n",
    "ax2.scatter(pred_wave, fitness[best_match_idx][0])\n",
    "\n",
    "\n",
    "idx = np.where(Pabs[:,1]-Pabs[:,0] == max(Pabs[:,1]-Pabs[:,0]))\n",
    "\n",
    "print('GA solution', np.round(pred_wave,3), 'eV',  np.round(pred_gap,3), 'nm')\n",
    "print('Actual solution', np.round(w[idx][0],3), np.round(max(Pabs[:,1]-Pabs[:,0]), 5))"
   ]
  },
  {
   "cell_type": "code",
   "execution_count": null,
   "metadata": {},
   "outputs": [],
   "source": []
  }
 ],
 "metadata": {
  "kernelspec": {
   "display_name": "Python 3",
   "language": "python",
   "name": "python3"
  },
  "language_info": {
   "codemirror_mode": {
    "name": "ipython",
    "version": 3
   },
   "file_extension": ".py",
   "mimetype": "text/x-python",
   "name": "python",
   "nbconvert_exporter": "python",
   "pygments_lexer": "ipython3",
   "version": "3.8.3"
  }
 },
 "nbformat": 4,
 "nbformat_minor": 4
}
